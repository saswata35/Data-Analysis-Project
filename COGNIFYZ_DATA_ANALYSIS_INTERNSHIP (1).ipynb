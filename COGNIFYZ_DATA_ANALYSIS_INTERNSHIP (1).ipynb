{
  "nbformat": 4,
  "nbformat_minor": 0,
  "metadata": {
    "colab": {
      "private_outputs": true,
      "provenance": []
    },
    "kernelspec": {
      "name": "python3",
      "display_name": "Python 3"
    },
    "language_info": {
      "name": "python"
    }
  },
  "cells": [
    {
      "cell_type": "code",
      "source": [
        "import pandas as pd\n",
        "import matplotlib.pyplot as plt\n",
        "import seaborn as sns\n",
        "from collections import Counter\n",
        "import folium\n",
        "from folium.plugins import HeatMap\n",
        "from sklearn.cluster import KMeans\n",
        "from nltk.corpus import stopwords\n",
        "from nltk.tokenize import word_tokenize\n",
        "from nltk.sentiment import SentimentIntensityAnalyzer\n",
        "import nltk\n",
        "from nltk.corpus import stopwords\n",
        "from nltk.tokenize import word_tokenize"
      ],
      "metadata": {
        "id": "bbmO3nDIXzmA"
      },
      "execution_count": null,
      "outputs": []
    },
    {
      "cell_type": "code",
      "source": [
        "# Load the CSV file\n",
        "data = pd.read_csv('Dataset .csv')"
      ],
      "metadata": {
        "id": "5swcUNteX16v"
      },
      "execution_count": null,
      "outputs": []
    },
    {
      "cell_type": "code",
      "source": [
        "print(data.head())  # Display the first 5 rows of the dataset"
      ],
      "metadata": {
        "id": "jblh_I71X9KG"
      },
      "execution_count": null,
      "outputs": []
    },
    {
      "cell_type": "code",
      "source": [
        "print(data)"
      ],
      "metadata": {
        "id": "tCw_2FgtagxV"
      },
      "execution_count": null,
      "outputs": []
    },
    {
      "cell_type": "code",
      "source": [
        "# LEVEL-1"
      ],
      "metadata": {
        "id": "gdP62AVHb2zg"
      },
      "execution_count": null,
      "outputs": []
    },
    {
      "cell_type": "code",
      "source": [
        "# TASK-1\n",
        "# TOP CUISINES"
      ],
      "metadata": {
        "id": "w1i_8WwXcG1K"
      },
      "execution_count": null,
      "outputs": []
    },
    {
      "cell_type": "code",
      "source": [
        "# Step 1: Check the column names to ensure the correct column is selected for cuisines\n",
        "print(data.columns)"
      ],
      "metadata": {
        "id": "CC1IHA8UaD9Z"
      },
      "execution_count": null,
      "outputs": []
    },
    {
      "cell_type": "code",
      "source": [
        "# Step 2: Assuming the column name for cuisines is 'Cuisines'\n",
        "data.columns = data.columns.str.strip()"
      ],
      "metadata": {
        "id": "pZZqLSNNalnx"
      },
      "execution_count": null,
      "outputs": []
    },
    {
      "cell_type": "code",
      "source": [
        "# Step 3: Count the occurrences of each cuisine\n",
        "top_cuisines = data['Cuisines'].value_counts().head(3)"
      ],
      "metadata": {
        "id": "kFts9GNsaoBQ"
      },
      "execution_count": null,
      "outputs": []
    },
    {
      "cell_type": "code",
      "source": [
        "# Print the results\n",
        "print(top_cuisines)"
      ],
      "metadata": {
        "id": "egx0cSqZapoy"
      },
      "execution_count": null,
      "outputs": []
    },
    {
      "cell_type": "code",
      "source": [
        "# Step 4: Calculate the percentage of restaurants that serve each of the top cuisines\n",
        "total_restaurants = len(data)\n",
        "top_cuisines_percentage = (top_cuisines / total_restaurants) * 100"
      ],
      "metadata": {
        "id": "Hlq8V092bCYo"
      },
      "execution_count": null,
      "outputs": []
    },
    {
      "cell_type": "code",
      "source": [
        "# Print the results\n",
        "print(\"Top 3 Cuisines:\")\n",
        "print(top_cuisines)"
      ],
      "metadata": {
        "id": "F9XIdlKObGe4"
      },
      "execution_count": null,
      "outputs": []
    },
    {
      "cell_type": "code",
      "source": [
        "print(\"\\nPercentage of Restaurants Serving Each Cuisine:\")\n",
        "print(top_cuisines_percentage)"
      ],
      "metadata": {
        "id": "senaSlBLbIbX"
      },
      "execution_count": null,
      "outputs": []
    },
    {
      "cell_type": "code",
      "source": [
        "# TASK-2\n",
        "# CITY ANALYSIS"
      ],
      "metadata": {
        "id": "LOyDOsDibLE0"
      },
      "execution_count": null,
      "outputs": []
    },
    {
      "cell_type": "code",
      "source": [
        "# Step 1: Identify the city with the highest number of restaurants\n",
        "city_counts = data['City'].value_counts()\n",
        "city_with_highest_restaurants = city_counts.idxmax()\n",
        "highest_restaurant_count = city_counts.max()"
      ],
      "metadata": {
        "id": "G9RdIa7fcYSv"
      },
      "execution_count": null,
      "outputs": []
    },
    {
      "cell_type": "code",
      "source": [
        "print(f\"City with the highest number of restaurants: {city_with_highest_restaurants}\")\n",
        "print(f\"Number of restaurants: {highest_restaurant_count}\")"
      ],
      "metadata": {
        "id": "mrp3f8H_cdHO"
      },
      "execution_count": null,
      "outputs": []
    },
    {
      "cell_type": "code",
      "source": [
        "# Step 2: Calculate the average rating for restaurants in each city\n",
        "average_ratings_by_city = data.groupby('City')['Aggregate rating'].mean()"
      ],
      "metadata": {
        "id": "pO3VSUNvce6T"
      },
      "execution_count": null,
      "outputs": []
    },
    {
      "cell_type": "code",
      "source": [
        "# Step 3: Determine the city with the highest average rating\n",
        "city_with_highest_avg_rating = average_ratings_by_city.idxmax()\n",
        "highest_avg_rating = average_ratings_by_city.max()"
      ],
      "metadata": {
        "id": "QqK65UKFchhB"
      },
      "execution_count": null,
      "outputs": []
    },
    {
      "cell_type": "code",
      "source": [
        "print(f\"City with the highest average rating: {city_with_highest_avg_rating}\")\n",
        "print(f\"Average rating: {highest_avg_rating:.2f}\")"
      ],
      "metadata": {
        "id": "YHcGqyMUcxBS"
      },
      "execution_count": null,
      "outputs": []
    },
    {
      "cell_type": "code",
      "source": [
        "# TASK-3\n",
        "# PRICE RANGE DISTRIBUTION"
      ],
      "metadata": {
        "id": "QDSu5sOycy-t"
      },
      "execution_count": null,
      "outputs": []
    },
    {
      "cell_type": "code",
      "source": [
        "print(data.columns)"
      ],
      "metadata": {
        "id": "4m-94B4ldXVV"
      },
      "execution_count": null,
      "outputs": []
    },
    {
      "cell_type": "code",
      "source": [
        "# Step 1: We will use a bar chart to visualize the distribution of price ranges.\n",
        "# Assuming 'Price Range' is the column name\n",
        "# Plotting the distribution of price ranges\n",
        "plt.figure(figsize=(10, 6))\n",
        "data['Price range'].value_counts().plot(kind='bar', color='skyblue', edgecolor='black')"
      ],
      "metadata": {
        "id": "6EQwQJHwdigS"
      },
      "execution_count": null,
      "outputs": []
    },
    {
      "cell_type": "code",
      "source": [
        "# Adding titles and labels\n",
        "plt.title('Distribution of Price Ranges Among Restaurants')\n",
        "plt.xlabel('Price Range')\n",
        "plt.ylabel('Number of Restaurants')"
      ],
      "metadata": {
        "id": "mhawIVU6eW1c"
      },
      "execution_count": null,
      "outputs": []
    },
    {
      "cell_type": "code",
      "source": [
        "# Displaying the chart\n",
        "plt.xticks(rotation=45)\n",
        "plt.show()\n"
      ],
      "metadata": {
        "id": "NVtDqEKjeY6Y"
      },
      "execution_count": null,
      "outputs": []
    },
    {
      "cell_type": "code",
      "source": [
        "# Step 2: calculate the percentage of restaurants in each price range category.\n",
        "price_range_percentage = data['Price range'].value_counts(normalize=True) * 100"
      ],
      "metadata": {
        "id": "-cSyLu8YekdU"
      },
      "execution_count": null,
      "outputs": []
    },
    {
      "cell_type": "code",
      "source": [
        "# Display the percentage\n",
        "print(price_range_percentage)"
      ],
      "metadata": {
        "id": "WrdDqcZ8evJn"
      },
      "execution_count": null,
      "outputs": []
    },
    {
      "cell_type": "code",
      "source": [
        "# TASK-4\n",
        "# ONLINE DELIVERY"
      ],
      "metadata": {
        "id": "km_Du9ZaezcS"
      },
      "execution_count": null,
      "outputs": []
    },
    {
      "cell_type": "code",
      "source": [
        "# STEP-1:  Calculate the percentage of restaurants that offer online delivery\n",
        "online_delivery_percentage = data['Has Online delivery'].value_counts(normalize=True) * 100"
      ],
      "metadata": {
        "id": "PKvTc_izfCJ1"
      },
      "execution_count": null,
      "outputs": []
    },
    {
      "cell_type": "code",
      "source": [
        "# Display the percentage\n",
        "print(online_delivery_percentage)"
      ],
      "metadata": {
        "id": "VNUreKENfMYC"
      },
      "execution_count": null,
      "outputs": []
    },
    {
      "cell_type": "code",
      "source": [
        "#STEP-2: # Calculate the average rating for restaurants with online delivery\n",
        "average_rating_with_delivery = data[data['Has Online delivery'] == 'Yes']['Aggregate rating'].mean()"
      ],
      "metadata": {
        "id": "gg_92rQAfiFq"
      },
      "execution_count": null,
      "outputs": []
    },
    {
      "cell_type": "code",
      "source": [
        "# Calculate the average rating for restaurants without online delivery\n",
        "average_rating_without_delivery = data[data['Has Online delivery'] == 'No']['Aggregate rating'].mean()"
      ],
      "metadata": {
        "id": "XNCe31GGf0wz"
      },
      "execution_count": null,
      "outputs": []
    },
    {
      "cell_type": "code",
      "source": [
        "# Display the results\n",
        "print(f\"Average Rating for Restaurants with Online Delivery: {average_rating_with_delivery}\")\n",
        "print(f\"Average Rating for Restaurants without Online Delivery: {average_rating_without_delivery}\")"
      ],
      "metadata": {
        "id": "Uq24TefxgKjv"
      },
      "execution_count": null,
      "outputs": []
    },
    {
      "cell_type": "code",
      "source": [
        "# LEVEL-2"
      ],
      "metadata": {
        "id": "NupLV7yNgNuE"
      },
      "execution_count": null,
      "outputs": []
    },
    {
      "cell_type": "code",
      "source": [
        "# TASK-1\n",
        "# RESTAURANT RATINGS"
      ],
      "metadata": {
        "id": "wL1K0pnMgv2t"
      },
      "execution_count": null,
      "outputs": []
    },
    {
      "cell_type": "code",
      "source": [
        "# STEP-1:Analyze the distribution of aggregate ratings\n",
        "# Create a histogram to visualize the distribution of ratings\n",
        "plt.figure(figsize=(10, 6))\n",
        "plt.hist(data['Aggregate rating'], bins=10, edgecolor='black', color='skyblue')\n",
        "plt.title('Distribution of Aggregate Ratings')\n",
        "plt.xlabel('Ratings')\n",
        "plt.ylabel('Number of Restaurants')\n",
        "plt.grid(True)\n",
        "plt.show()"
      ],
      "metadata": {
        "id": "v08FvhVUg2Y3"
      },
      "execution_count": null,
      "outputs": []
    },
    {
      "cell_type": "code",
      "source": [
        "# STEP-2. Determine the most common rating range\n",
        "# Define rating ranges (for example, 1-2, 2-3, 3-4, etc.)\n",
        "bins = [1, 2, 3, 4, 5]  # Ratings are between 1 and 5\n",
        "labels = ['1-2', '2-3', '3-4', '4-5']"
      ],
      "metadata": {
        "id": "xNAR6QNqhJKT"
      },
      "execution_count": null,
      "outputs": []
    },
    {
      "cell_type": "code",
      "source": [
        "# Categorize ratings into ranges\n",
        "rating_ranges = pd.cut(data['Aggregate rating'], bins=bins, labels=labels, right=False)"
      ],
      "metadata": {
        "id": "vIlbVd7ZhXhR"
      },
      "execution_count": null,
      "outputs": []
    },
    {
      "cell_type": "code",
      "source": [
        "# Find the most common rating range\n",
        "most_common_range = rating_ranges.value_counts().idxmax()\n",
        "print(f\"The most common rating range is: {most_common_range}\")"
      ],
      "metadata": {
        "id": "KoCJnbAqhZdB"
      },
      "execution_count": null,
      "outputs": []
    },
    {
      "cell_type": "code",
      "source": [
        "# STEP-3. Calculate the average number of votes\n",
        "# Assuming the column with votes is called 'Votes'\n",
        "average_votes = data['Votes'].mean()\n",
        "print(f\"Average number of votes received by restaurants: {average_votes:.2f}\")"
      ],
      "metadata": {
        "id": "vVxYVVV7hoZv"
      },
      "execution_count": null,
      "outputs": []
    },
    {
      "cell_type": "code",
      "source": [
        "# TASK-2\n",
        "# CUISINE COMBINATION"
      ],
      "metadata": {
        "id": "r7gtgx9FhqmZ"
      },
      "execution_count": null,
      "outputs": []
    },
    {
      "cell_type": "code",
      "source": [
        "# STEP-1. Identify the most common combinations of cuisines\n",
        "# Split the 'Cuisine' column by commas to get a list of cuisines for each restaurant\n",
        "cuisine_combinations = data['Cuisines'].dropna().apply(lambda x: tuple(sorted(x.split(','))))"
      ],
      "metadata": {
        "id": "U6CIvONHhyF-"
      },
      "execution_count": null,
      "outputs": []
    },
    {
      "cell_type": "code",
      "source": [
        "# Count the most common combinations using the Counter class\n",
        "cuisine_counter = Counter(cuisine_combinations)"
      ],
      "metadata": {
        "id": "1ZnsS_EwiAOA"
      },
      "execution_count": null,
      "outputs": []
    },
    {
      "cell_type": "code",
      "source": [
        "# Display the most common 10 combinations\n",
        "top_combinations = cuisine_counter.most_common(10)\n",
        "print(\"Most Common Cuisine Combinations:\")\n",
        "for combo, count in top_combinations:\n",
        "    print(f\"{combo}: {count}\")"
      ],
      "metadata": {
        "id": "wkuafdt7iB_N"
      },
      "execution_count": null,
      "outputs": []
    },
    {
      "cell_type": "code",
      "source": [
        "# STEP-2. Determine if certain cuisine combinations tend to have higher ratings\n",
        "# Group by cuisine combinations and calculate the average rating\n",
        "cuisine_avg_rating = data.groupby('Cuisines')['Aggregate rating'].mean().sort_values(ascending=False)"
      ],
      "metadata": {
        "id": "JFA9QkIMiMkr"
      },
      "execution_count": null,
      "outputs": []
    },
    {
      "cell_type": "code",
      "source": [
        "# Display the average ratings for the most common combinations\n",
        "print(\"\\nAverage Ratings for Cuisine Combinations:\")\n",
        "for combo in top_combinations:\n",
        "    combo_str = ', '.join(combo[0])\n",
        "    avg_rating = cuisine_avg_rating.get(combo_str, 'N/A')\n",
        "    print(f\"{combo_str}: {avg_rating}\")"
      ],
      "metadata": {
        "id": "Ka4OVSaHiTWk"
      },
      "execution_count": null,
      "outputs": []
    },
    {
      "cell_type": "code",
      "source": [
        "# TASK-3\n",
        "# GEPGRAPHIC ANALYSIS"
      ],
      "metadata": {
        "id": "K9QKtnuliZuO"
      },
      "execution_count": null,
      "outputs": []
    },
    {
      "cell_type": "code",
      "source": [
        "# Assuming data has 'Longitude' and 'Latitude' columns for restaurant locations\n",
        "# Check the first few rows to confirm column names\n",
        "print(data[['Restaurant Name', 'Longitude', 'Latitude']].head())"
      ],
      "metadata": {
        "id": "H_ltCnqBigj0"
      },
      "execution_count": null,
      "outputs": []
    },
    {
      "cell_type": "code",
      "source": [
        "# STEP-1. Plot the locations of restaurants on a map\n",
        "# Create a base map centered at the average latitude and longitude\n",
        "avg_lat = data['Latitude'].mean()\n",
        "avg_lon = data['Longitude'].mean()"
      ],
      "metadata": {
        "id": "gVCNHTFiiuNe"
      },
      "execution_count": null,
      "outputs": []
    },
    {
      "cell_type": "code",
      "source": [
        "m = folium.Map(location=[avg_lat, avg_lon], zoom_start=12)\n"
      ],
      "metadata": {
        "id": "E8zZ7KoojBQ0"
      },
      "execution_count": null,
      "outputs": []
    },
    {
      "cell_type": "code",
      "source": [
        "# Add each restaurant location as a marker\n",
        "for index, row in data.iterrows():\n",
        "    folium.Marker(\n",
        "        location=[row['Latitude'], row['Longitude']],\n",
        "        popup=row['Restaurant Name']\n",
        "    ).add_to(m)"
      ],
      "metadata": {
        "id": "GcpX7DamjDMv"
      },
      "execution_count": null,
      "outputs": []
    },
    {
      "cell_type": "code",
      "source": [
        "# Display the map\n",
        "m.save(\"restaurant_map.html\")\n",
        "print(\"Map saved as 'restaurant_map.html'. Open it in your browser to view the plot.\")"
      ],
      "metadata": {
        "id": "UYq9_r8EjEoC"
      },
      "execution_count": null,
      "outputs": []
    },
    {
      "cell_type": "code",
      "source": [
        "# STEP-2:Identify patterns or clusters of restaurants\n",
        "# First, remove any rows with missing values in Longitude and Latitude\n",
        "data_clean = data.dropna(subset=['Longitude', 'Latitude'])"
      ],
      "metadata": {
        "id": "xsFWXjyXjIMT"
      },
      "execution_count": null,
      "outputs": []
    },
    {
      "cell_type": "code",
      "source": [
        "# Prepare the data for clustering (only Longitude and Latitude)\n",
        "coords = data_clean[['Longitude', 'Latitude']]"
      ],
      "metadata": {
        "id": "OzgZykiKjOjj"
      },
      "execution_count": null,
      "outputs": []
    },
    {
      "cell_type": "code",
      "source": [
        "# Perform K-means clustering to find patterns\n",
        "kmeans = KMeans(n_clusters=5, random_state=42)\n",
        "data_clean['Cluster'] = kmeans.fit_predict(coords)"
      ],
      "metadata": {
        "id": "PAwgHLpPjQl2"
      },
      "execution_count": null,
      "outputs": []
    },
    {
      "cell_type": "code",
      "source": [
        "# Plot the clusters on a map with different colors\n",
        "m_clustered = folium.Map(location=[avg_lat, avg_lon], zoom_start=12)"
      ],
      "metadata": {
        "id": "zenwMOJSjR1P"
      },
      "execution_count": null,
      "outputs": []
    },
    {
      "cell_type": "code",
      "source": [
        "# Create a color map for clusters\n",
        "cluster_colors = ['red', 'blue', 'green', 'purple', 'orange']"
      ],
      "metadata": {
        "id": "YD9rBQYUjTTs"
      },
      "execution_count": null,
      "outputs": []
    },
    {
      "cell_type": "code",
      "source": [
        "# Plot each cluster with a different color\n",
        "for i, row in data_clean.iterrows():\n",
        "    folium.CircleMarker(\n",
        "        location=[row['Latitude'], row['Longitude']],\n",
        "        radius=5,\n",
        "        color=cluster_colors[row['Cluster']],\n",
        "        fill=True,\n",
        "        fill_color=cluster_colors[row['Cluster']],\n",
        "        fill_opacity=0.6,\n",
        "        popup=f\"Cluster {row['Cluster']} - {row['Restaurant Name']}\"\n",
        "    ).add_to(m_clustered)\n"
      ],
      "metadata": {
        "id": "02h_grnSjVDY"
      },
      "execution_count": null,
      "outputs": []
    },
    {
      "cell_type": "code",
      "source": [
        "# Display the clustered map\n",
        "m_clustered.save(\"restaurant_clustered_map.html\")\n",
        "print(\"Clustered map saved as 'restaurant_clustered_map.html'. Open it in your browser to view the plot.\")\n"
      ],
      "metadata": {
        "id": "HHHdbVDUjWgp"
      },
      "execution_count": null,
      "outputs": []
    },
    {
      "cell_type": "code",
      "source": [
        "# TASK-4\n",
        "# RESTAURANT CHAINS"
      ],
      "metadata": {
        "id": "qeuua0wQjcTE"
      },
      "execution_count": null,
      "outputs": []
    },
    {
      "cell_type": "code",
      "source": [
        "# Assuming the dataset is loaded into a pandas DataFrame called 'data'\n",
        "# Check the first few rows to understand the structure of the dataset\n",
        "print(data[['Restaurant Name', 'Aggregate rating', 'Votes']].head())"
      ],
      "metadata": {
        "id": "rdL6nVkYjjUT"
      },
      "execution_count": null,
      "outputs": []
    },
    {
      "cell_type": "code",
      "source": [
        "# STEP-1:Identify restaurant chains\n",
        "# Assuming that restaurant names are similar for restaurant chains (e.g., \"McDonald's\" has multiple locations)\n",
        "# Group by the 'Restaurant' column to identify chains (i.e., restaurants with multiple occurrences)\n",
        "restaurant_chain_counts = data['Restaurant Name'].value_counts()"
      ],
      "metadata": {
        "id": "kmT99fUOjufj"
      },
      "execution_count": null,
      "outputs": []
    },
    {
      "cell_type": "code",
      "source": [
        "# Filter out restaurants with more than one occurrence, indicating a chain\n",
        "restaurant_chains = restaurant_chain_counts[restaurant_chain_counts > 1]\n",
        "print(\"Restaurant Chains:\\n\", restaurant_chains)\n"
      ],
      "metadata": {
        "id": "CbF6RzKHj7kW"
      },
      "execution_count": null,
      "outputs": []
    },
    {
      "cell_type": "code",
      "source": [
        "# STEP-2. Analyze the ratings and popularity of different restaurant chains\n",
        "# Calculate the average rating and total votes for each restaurant chain\n",
        "chain_analysis = data.groupby('Restaurant Name').agg(\n",
        "    average_rating=('Aggregate rating', 'mean'),\n",
        "    total_votes=('Votes', 'sum')\n",
        ").loc[restaurant_chains.index]"
      ],
      "metadata": {
        "id": "YcdzX3G9j_YU"
      },
      "execution_count": null,
      "outputs": []
    },
    {
      "cell_type": "code",
      "source": [
        "# Sort by average rating and total votes for analysis\n",
        "chain_analysis_sorted_by_rating = chain_analysis.sort_values(by='average_rating', ascending=False)\n",
        "chain_analysis_sorted_by_popularity = chain_analysis.sort_values(by='total_votes', ascending=False)"
      ],
      "metadata": {
        "id": "4qhXrf9dkD7I"
      },
      "execution_count": null,
      "outputs": []
    },
    {
      "cell_type": "code",
      "source": [
        "# Display the results\n",
        "print(\"\\nRestaurant Chains Sorted by Average Rating:\\n\", chain_analysis_sorted_by_rating.head())\n",
        "print(\"\\nRestaurant Chains Sorted by Popularity (Total Votes):\\n\", chain_analysis_sorted_by_popularity.head())"
      ],
      "metadata": {
        "id": "Qdlhge-ukN5i"
      },
      "execution_count": null,
      "outputs": []
    },
    {
      "cell_type": "code",
      "source": [
        "# LEVEL-3:-"
      ],
      "metadata": {
        "id": "nUtfCMSQkP8v"
      },
      "execution_count": null,
      "outputs": []
    },
    {
      "cell_type": "code",
      "source": [
        "# TASK-1:\n",
        "# RESTAURANT REVIEWS"
      ],
      "metadata": {
        "id": "YphfyjohkVdj"
      },
      "execution_count": null,
      "outputs": []
    },
    {
      "cell_type": "code",
      "source": [
        "\n",
        "# Assuming the dataset is loaded into a pandas DataFrame called 'data'\n",
        "# Ensure that the 'Reviews' column exists in the dataset (it could also be named differently like 'Review_Text')\n",
        "reviews = data['Rating text']\n",
        "\n",
        "# Initialize NLTK\n",
        "nltk.download('stopwords')\n",
        "nltk.download('punkt')\n",
        "nltk.download('vader_lexicon')\n",
        "\n",
        "# List of stopwords\n",
        "stop_words = set(stopwords.words('english'))\n",
        "\n",
        "# Initialize SentimentIntensityAnalyzer\n",
        "sia = SentimentIntensityAnalyzer()\n",
        "\n",
        "# Preprocess reviews\n",
        "processed_reviews = []\n",
        "for review in reviews:\n",
        "    words = word_tokenize(review.lower())  # Tokenize and convert to lowercase\n",
        "    filtered_words = [word for word in words if word.isalpha() and word not in stop_words]  # Remove stopwords and non-alphabetical words\n",
        "    processed_reviews.append(filtered_words)"
      ],
      "metadata": {
        "id": "58clH5bBkcM4"
      },
      "execution_count": null,
      "outputs": []
    },
    {
      "cell_type": "code",
      "source": [
        "# STEP-1.\n",
        "positive_keywords = []\n",
        "negative_keywords = []\n",
        "\n",
        "for review in processed_reviews:\n",
        "    sentiment_score = sia.polarity_scores(' '.join(review))['compound']  # Sentiment score\n",
        "    if sentiment_score > 0:\n",
        "        positive_keywords.extend(review)\n",
        "    elif sentiment_score < 0:\n",
        "        negative_keywords.extend(review)"
      ],
      "metadata": {
        "id": "ttWWmlieRX41"
      },
      "execution_count": null,
      "outputs": []
    },
    {
      "cell_type": "code",
      "source": [],
      "metadata": {
        "id": "VOSbfWp71Zy8"
      },
      "execution_count": null,
      "outputs": []
    },
    {
      "cell_type": "code",
      "source": [
        "\n",
        "# Find the most common positive and negative keywords\n",
        "from collections import Counter\n",
        "positive_counter = Counter(positive_keywords)\n",
        "negative_counter = Counter(negative_keywords)\n",
        "\n",
        "most_common_positive = positive_counter.most_common(10)  # Top 10 positive keywords\n",
        "most_common_negative = negative_counter.most_common(10)  # Top 10 negative keywords\n"
      ],
      "metadata": {
        "id": "P844HhwyTJuE"
      },
      "execution_count": null,
      "outputs": []
    },
    {
      "cell_type": "code",
      "source": [
        "# Print the results\n",
        "print(\"Most Common Positive Keywords:\", most_common_positive)\n",
        "print(\"Most Common Negative Keywords:\", most_common_negative)"
      ],
      "metadata": {
        "id": "hbyvw436TUWx"
      },
      "execution_count": null,
      "outputs": []
    },
    {
      "cell_type": "code",
      "source": [
        "# STEP-2.Calculate the average length of reviews\n",
        "review_lengths = [len(review.split()) for review in reviews]\n",
        "average_length = sum(review_lengths) / len(review_lengths)"
      ],
      "metadata": {
        "id": "Q5RsbU2yTluv"
      },
      "execution_count": null,
      "outputs": []
    },
    {
      "cell_type": "code",
      "source": [
        "# Plot the relationship between review length and rating\n",
        "data['Review Length'] = review_lengths\n",
        "plt.scatter(data['Review Length'], data['Aggregate rating'])\n",
        "plt.xlabel('Review Length')\n",
        "plt.ylabel('Aggregrate rating')\n",
        "plt.title('Review Length vs Rating')\n",
        "plt.show()"
      ],
      "metadata": {
        "id": "zkiCMRbDTt4f"
      },
      "execution_count": null,
      "outputs": []
    },
    {
      "cell_type": "code",
      "source": [
        "# Print the average length\n",
        "print(f\"Average Length of Reviews: {average_length:.2f} words\")"
      ],
      "metadata": {
        "id": "T0_nZ0WQTxER"
      },
      "execution_count": null,
      "outputs": []
    },
    {
      "cell_type": "code",
      "source": [
        "# TASK-2:-\n",
        "# VOTES ANALYSIS"
      ],
      "metadata": {
        "id": "bqf2fqVSUaOb"
      },
      "execution_count": null,
      "outputs": []
    },
    {
      "cell_type": "code",
      "source": [
        "# STEP-1.Identify the highest and lowest number of votes\n",
        "data['Votes'] = data['Votes'].astype(int)  # Ensure 'Votes' is in integer format\n",
        "highest_votes = data.loc[data['Votes'].idxmax()]\n",
        "lowest_votes = data.loc[data['Votes'].idxmin()]\n",
        "\n",
        "print(\"Restaurant with highest votes:\", highest_votes[['Restaurant Name', 'Votes']])\n",
        "print(\"Restaurant with lowest votes:\", lowest_votes[['Restaurant Name', 'Votes']])"
      ],
      "metadata": {
        "id": "cR4V0yXAUiwF"
      },
      "execution_count": null,
      "outputs": []
    },
    {
      "cell_type": "code",
      "source": [
        "# STEP-2.Correlation between the number of votes and rating\n",
        "correlation = data[['Votes', 'Aggregate rating']].corr()  # Calculate correlation matrix\n",
        "print(\"Correlation between votes and rating:\", correlation)"
      ],
      "metadata": {
        "id": "V6aoVaVDUrEL"
      },
      "execution_count": null,
      "outputs": []
    },
    {
      "cell_type": "code",
      "source": [
        "# TASK-3:-\n",
        "# PRICE RANGE VS ONLINE DELIVERY AND TABLE BOOKING"
      ],
      "metadata": {
        "id": "f1n4tCfwUucK"
      },
      "execution_count": null,
      "outputs": []
    },
    {
      "cell_type": "code",
      "source": [
        "# STEP-1.Analyze if there is a relationship between price range and the availability of online delivery and table booking\n",
        "\n",
        "# Convert the relevant columns to boolean (True/False) for easy analysis\n",
        "data['Has Online delivery'] = data['Has Online delivery'].map({'Yes': True, 'No': False})\n",
        "data['Has Table booking'] = data['Has Table booking'].map({'Yes': True, 'No': False})"
      ],
      "metadata": {
        "id": "MwF-sS-dVE5Y"
      },
      "execution_count": null,
      "outputs": []
    },
    {
      "cell_type": "code",
      "source": [
        "# Calculate the percentage of restaurants offering online delivery and table booking across different price ranges\n",
        "price_range_groups = data.groupby('Price range').agg({\n",
        "    'Has Online delivery': 'mean',\n",
        "    'Has Table booking': 'mean'\n",
        "})\n",
        "print(price_range_groups)"
      ],
      "metadata": {
        "id": "2g46tShgVLZq"
      },
      "execution_count": null,
      "outputs": []
    },
    {
      "cell_type": "code",
      "source": [
        "# Plotting the results\n",
        "fig, ax = plt.subplots(1, 2, figsize=(14, 7))"
      ],
      "metadata": {
        "id": "2xtakL6zVZ7o"
      },
      "execution_count": null,
      "outputs": []
    },
    {
      "cell_type": "code",
      "source": [
        "# STEP-2.Online Delivery vs Price Range\n",
        "price_range_groups['Has Online delivery'].plot(kind='bar', ax=ax[0])\n",
        "ax[0].set_title('Online delivery vs Price range')\n",
        "ax[0].set_ylabel('Percentage Offering Online Delivery')"
      ],
      "metadata": {
        "id": "y13OoPVsVhCL"
      },
      "execution_count": null,
      "outputs": []
    },
    {
      "cell_type": "code",
      "source": [
        "# STEP-3.Table Booking vs Price Range\n",
        "price_range_groups['Has Table booking'].plot(kind='bar', ax=ax[1])\n",
        "ax[1].set_title('Table Booking vs Price Range')\n",
        "ax[1].set_ylabel('Percentage Offering Table Booking')"
      ],
      "metadata": {
        "id": "eoFtlAE_Vjus"
      },
      "execution_count": null,
      "outputs": []
    },
    {
      "cell_type": "code",
      "source": [
        "plt.tight_layout()\n",
        "plt.show()"
      ],
      "metadata": {
        "id": "vNPX_A8lVqHt"
      },
      "execution_count": null,
      "outputs": []
    }
  ]
}